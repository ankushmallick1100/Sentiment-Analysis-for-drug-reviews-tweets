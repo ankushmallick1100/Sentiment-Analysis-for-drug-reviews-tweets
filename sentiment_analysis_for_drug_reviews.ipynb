{
 "cells": [
  {
   "cell_type": "code",
   "execution_count": null,
   "id": "090d6f72-7bbc-4778-911c-cad9f75f88a5",
   "metadata": {},
   "outputs": [],
   "source": [
    "# Import required libraries and modules\n",
    "import numpy as np\n",
    "import pandas as pd\n",
    "\n",
    "import matplotlib.pyplot as plt\n",
    "import seaborn as sns\n",
    "\n",
    "import warnings \n",
    "warnings.simplefilter('ignore')"
   ]
  },
  {
   "cell_type": "code",
   "execution_count": null,
   "id": "ac491823-79b1-4d21-8a82-54f6294b05ca",
   "metadata": {},
   "outputs": [],
   "source": [
    "# Load the Train dataset\n",
    "train = pd.read_csv('train.csv')\n",
    "train.head()"
   ]
  },
  {
   "cell_type": "code",
   "execution_count": null,
   "id": "1ee40787-dc48-4f90-8f86-c66208950abe",
   "metadata": {},
   "outputs": [],
   "source": [
    "# Load the Test dataset\n",
    "test = pd.read_csv('test.csv')\n",
    "test.head()"
   ]
  },
  {
   "cell_type": "code",
   "execution_count": null,
   "id": "77749e65-d2a0-4c0e-b28a-79e456a4fb75",
   "metadata": {},
   "outputs": [],
   "source": [
    "# Combine Two Dataset - Train and Test Dataset\n",
    "data = pd.concat([train, test])\n",
    "data.head()"
   ]
  },
  {
   "cell_type": "code",
   "execution_count": null,
   "id": "b76d294f-16c2-4f95-9881-04f4a484d352",
   "metadata": {},
   "outputs": [],
   "source": [
    "data.describe()"
   ]
  },
  {
   "cell_type": "code",
   "execution_count": null,
   "id": "5c640707-62be-4edf-a83f-32eb53d55abf",
   "metadata": {},
   "outputs": [],
   "source": [
    "data.info()"
   ]
  },
  {
   "cell_type": "code",
   "execution_count": null,
   "id": "4d5a8667-3a83-4bc6-99b9-3d132b239d9f",
   "metadata": {},
   "outputs": [],
   "source": [
    "data.dtypes"
   ]
  },
  {
   "cell_type": "code",
   "execution_count": null,
   "id": "4401403b-38d1-45e6-a19d-8a974d3b48fe",
   "metadata": {},
   "outputs": [],
   "source": [
    "data.isnull().any()"
   ]
  },
  {
   "cell_type": "markdown",
   "id": "ae840e65-ebb4-4988-aa5b-d17bacd81367",
   "metadata": {},
   "source": [
    "### Data Visualization"
   ]
  },
  {
   "cell_type": "code",
   "execution_count": null,
   "id": "c954908e-df3d-4d78-8e93-a4953497d0f2",
   "metadata": {},
   "outputs": [],
   "source": [
    "# Word Cloud for Drug Names\n",
    "from wordcloud import WordCloud\n",
    "from wordcloud import STOPWORDS\n",
    "\n",
    "stopwords = set(STOPWORDS)\n",
    "\n",
    "wordcloud = WordCloud(background_color = 'skyblue', stopwords = stopwords, width = 1200, height = 800).generate(str(data['drugName']))\n",
    "\n",
    "plt.rcParams['figure.figsize'] = (15, 15)\n",
    "plt.title('Word Cloud for Drug Names', fontsize = 25)\n",
    "print(wordcloud)\n",
    "plt.axis('off')\n",
    "plt.imshow(wordcloud)\n",
    "plt.show()"
   ]
  },
  {
   "cell_type": "code",
   "execution_count": null,
   "id": "c9de8cc4-7306-4aa1-9d8c-3b464cdac1c9",
   "metadata": {},
   "outputs": [],
   "source": [
    "# Bar Plot for Top 10 Drugs with 10/10 Rating\n",
    "sns.set(font_scale = 1.2, style  ='darkgrid')\n",
    "plt.rcParams['figure.figsize'] = (15,8)\n",
    "\n",
    "rating = dict(data.loc[data.rating == 10, \"drugName\"].value_counts())\n",
    "drugName = list(rating.keys())\n",
    "drugRating = list(rating.values())\n",
    "# print(drugName[0:10],drugRating[0:10])\n",
    "\n",
    "sns_rating = sns.barplot(x = drugName[0:10], y = drugRating[0:10], palette = 'summer')\n",
    "sns_rating.set_title(\"Top 10 Drugs with 10/10 Rating\", fontsize = 25)\n",
    "sns_rating.set_xlabel(\"Drug Names\")\n",
    "sns_rating.set_ylabel(\"Number of Ratings\")\n",
    "plt.setp(sns_rating.get_xticklabels(), rotation=90)"
   ]
  },
  {
   "cell_type": "code",
   "execution_count": null,
   "id": "747fe262-f6ef-4819-ac66-8dae12fb9490",
   "metadata": {},
   "outputs": [],
   "source": [
    "# Bar Plot for Top 10 Drugs with 1/10 Rating\n",
    "sns.set(font_scale = 1.2, style  ='darkgrid')\n",
    "plt.rcParams['figure.figsize'] = (15,8)\n",
    "\n",
    "rating = dict(data.loc[data.rating == 1, \"drugName\"].value_counts())\n",
    "drugName = list(rating.keys())\n",
    "drugRating = list(rating.values())\n",
    "# print(drugName[0:10],drugRating[0:10])\n",
    "\n",
    "sns_rating = sns.barplot(x = drugName[0:10], y = drugRating[0:10], palette = 'summer')\n",
    "sns_rating.set_title(\"Top 10 Drugs with 1/10 Rating\", fontsize = 25)\n",
    "sns_rating.set_xlabel(\"Drug Names\")\n",
    "sns_rating.set_ylabel(\"Number of Ratings\")\n",
    "plt.setp(sns_rating.get_xticklabels(), rotation=90)"
   ]
  },
  {
   "cell_type": "code",
   "execution_count": null,
   "id": "e38eef8f-592d-4e5f-9cbc-459f4eb113c9",
   "metadata": {},
   "outputs": [],
   "source": [
    "# data['rating'].value_counts()"
   ]
  },
  {
   "cell_type": "code",
   "execution_count": null,
   "id": "4b1036f6-85e7-49c4-9263-5dd04767097b",
   "metadata": {},
   "outputs": [],
   "source": [
    "# Pie Chart for Ratings\n",
    "rating_values_count = [68005, 36708, 28918, 25046, 12547, 10723, 9265, 8718, 8462, 6671]\n",
    "colors = ['cyan', 'pink', 'green', 'violet', 'grey', 'lightgreen', 'skyblue', 'brown', 'magenta', 'orange']\n",
    "rating_labels = \"10\", \"9\", \"1\", \"8\", \"7\", \"5\", \"2\", \"3\", \"6\", \"4\"\n",
    "\n",
    "my_circle = plt.Circle((0, 0), 0.7, color = 'white')\n",
    "\n",
    "plt.rcParams['figure.figsize'] = (7, 7)\n",
    "plt.pie(rating_values_count, colors = colors, labels = rating_labels, autopct = '%.2f%%')\n",
    "plt.axis('off')\n",
    "plt.title('Pie Chart for Ratings', fontsize = 25)\n",
    "# p = plt.gcf()\n",
    "plt.gca().add_artist(my_circle)\n",
    "# plt.legend()\n",
    "plt.show()"
   ]
  },
  {
   "cell_type": "code",
   "execution_count": null,
   "id": "6c43e471-e081-484f-bdde-d0576bc6175a",
   "metadata": {},
   "outputs": [],
   "source": [
    "# Bar Plot for Ratings\n",
    "sns.set(font_scale = 1.2, style  ='darkgrid')\n",
    "plt.rcParams['figure.figsize'] = (15,8)\n",
    "\n",
    "ratings = dict(data[\"rating\"].value_counts())\n",
    "rating = list(ratings.keys())\n",
    "rating_count = list(ratings.values())\n",
    "\n",
    "sns_rating = sns.barplot(x = rating[0:10], y = rating_count[0:10], palette = 'summer', order = list(range(10, 0, -1)))\n",
    "sns_rating.set_title(\"Bar Plot for Ratings\", fontsize = 25)\n",
    "sns_rating.set_xlabel(\"Ratings\")\n",
    "sns_rating.set_ylabel(\"Count of Ratings\")"
   ]
  },
  {
   "cell_type": "code",
   "execution_count": null,
   "id": "b98bbd44-0594-4d27-af02-4adebb1b2572",
   "metadata": {},
   "outputs": [],
   "source": [
    "# data['condition'].value_counts()[0:10]"
   ]
  },
  {
   "cell_type": "code",
   "execution_count": null,
   "id": "059a0ec4-9b0f-4b51-ac6c-31fbe2bee9e4",
   "metadata": {},
   "outputs": [],
   "source": [
    "# Bar Plot for Top 10 Codition the people are suffering\n",
    "sns.set(style = 'darkgrid', font_scale = 1.2)\n",
    "plt.rcParams['figure.figsize'] = (15,8)\n",
    "\n",
    "conditions = dict(data['condition'].value_counts())\n",
    "condition = list(conditions.keys())\n",
    "condition_count = list(conditions.values())\n",
    "\n",
    "sns_condition = sns.barplot(x = condition[0:10], y = condition_count[0:10], palette = 'summer')\n",
    "sns_condition.set_title(\"Top 10 Condition the people are suffering\", fontsize = 25)\n",
    "sns_condition.set_xlabel(\"Conditions\")\n",
    "sns_condition.set_ylabel(\"Count of Conditions\")"
   ]
  },
  {
   "cell_type": "code",
   "execution_count": null,
   "id": "54b83fd7-de69-40a2-8708-a57b6557207d",
   "metadata": {},
   "outputs": [],
   "source": [
    "# Bar Plot for Top 10 Drug used for Birth Control\n",
    "sns.set(style = 'darkgrid', font_scale = 1.2)\n",
    "plt.rcParams['figure.figsize'] = (15,8)\n",
    "\n",
    "drugs_for_birth_control_condition = dict(data[data['condition'] == 'Birth Control']['drugName'].value_counts())\n",
    "drugName = list(drugs_for_birth_control_condition.keys())\n",
    "drug_count = list(drugs_for_birth_control_condition.values())\n",
    "# print(drugName[0:10],drug_count[0:10])\n",
    "\n",
    "sns_drugs_for_birth_control = sns.barplot(x = drugName[0:10], y = drug_count[0:10], palette = 'summer')\n",
    "sns_drugs_for_birth_control.set_title(\"Top 10 Drug used for Birth Control\", fontsize = 25)\n",
    "sns_drugs_for_birth_control.set_xlabel(\"Drug Names\")\n",
    "plt.setp(sns_drugs_for_birth_control.get_xticklabels(), rotation = 90)"
   ]
  },
  {
   "cell_type": "code",
   "execution_count": null,
   "id": "7bbf43ce-c4b7-49cf-94e4-798f5383b28b",
   "metadata": {},
   "outputs": [],
   "source": [
    "# Word Cloud for Reviews\n",
    "from wordcloud import WordCloud\n",
    "from wordcloud import STOPWORDS\n",
    "\n",
    "stopwords = set(STOPWORDS)\n",
    "\n",
    "wordcloud = WordCloud(background_color = 'lightgreen', stopwords = stopwords, width = 1200, height = 800).generate(str(data['review']))\n",
    "\n",
    "plt.rcParams['figure.figsize'] = (15, 15)\n",
    "plt.title('Word Cloud for Reviews', fontsize = 25)\n",
    "print(wordcloud)\n",
    "plt.axis('off')\n",
    "plt.imshow(wordcloud)\n",
    "plt.show()"
   ]
  },
  {
   "cell_type": "code",
   "execution_count": null,
   "id": "1c74663b-b727-46c1-8201-ca86735772dd",
   "metadata": {},
   "outputs": [],
   "source": [
    "# Creating a new column Review_Sentiment\n",
    "data.loc[(data['rating'] >= 5), 'Review_Sentiment'] = 1\n",
    "data.loc[(data['rating'] < 5), 'Review_Sentiment'] = 0\n",
    "\n",
    "data['Review_Sentiment'].value_counts()"
   ]
  },
  {
   "cell_type": "code",
   "execution_count": null,
   "id": "8080e699-896b-4105-b65f-0235e87d543d",
   "metadata": {},
   "outputs": [],
   "source": [
    "# Pie Chat for Sentiment of Reviews\n",
    "size = [161491, 53572]\n",
    "colors = ['cyan', 'pink']\n",
    "labels = \"Positive Sentiment\", \"Negative Sentiment\"\n",
    "explode = [0, 0]\n",
    "\n",
    "plt.rcParams['figure.figsize'] = (7, 7)\n",
    "plt.pie(size, colors = colors, labels = labels, explode = explode, autopct = '%.2f%%')\n",
    "plt.axis('off')\n",
    "plt.title('Pie Chat for Sentiment of Reviews', fontsize = 25)\n",
    "plt.legend()\n",
    "plt.show()"
   ]
  },
  {
   "cell_type": "code",
   "execution_count": null,
   "id": "5d5dc5ad-5621-4f17-b397-854cc62eaf82",
   "metadata": {},
   "outputs": [],
   "source": [
    "# Word Cloud for Positive Sentiments\n",
    "from wordcloud import WordCloud\n",
    "from wordcloud import STOPWORDS\n",
    "\n",
    "positive_sentiments = \" \".join([text for text in data['review'][data['Review_Sentiment'] == 1]])\n",
    "\n",
    "stopwords = set(STOPWORDS)\n",
    "\n",
    "wordcloud = WordCloud(background_color = 'cyan', stopwords = stopwords, width = 1200, height = 800).generate(positive_sentiments)\n",
    "\n",
    "plt.rcParams['figure.figsize'] = (15, 15)\n",
    "plt.title('Word Cloud for Positive Sentiments', fontsize = 25)\n",
    "print(wordcloud)\n",
    "plt.axis('off')\n",
    "plt.imshow(wordcloud)\n",
    "plt.show()"
   ]
  },
  {
   "cell_type": "code",
   "execution_count": null,
   "id": "4599e6db-537d-4e09-9a7b-73abda4b01d3",
   "metadata": {},
   "outputs": [],
   "source": [
    "# Word Cloud for Negative Sentiments\n",
    "from wordcloud import WordCloud\n",
    "from wordcloud import STOPWORDS\n",
    "\n",
    "negative_sentiments = \" \".join([text for text in data['review'][data['Review_Sentiment'] == 0]])\n",
    "\n",
    "stopwords = set(STOPWORDS)\n",
    "\n",
    "wordcloud = WordCloud(background_color = 'orange', stopwords = stopwords, width = 1200, height = 800).generate(negative_sentiments)\n",
    "\n",
    "plt.rcParams['figure.figsize'] = (15, 15)\n",
    "plt.title('Word Cloud for Negative Sentiments', fontsize = 25)\n",
    "print(wordcloud)\n",
    "plt.axis('off')\n",
    "plt.imshow(wordcloud)\n",
    "plt.show()"
   ]
  },
  {
   "cell_type": "code",
   "execution_count": null,
   "id": "16d91a1c-6479-4c0d-947e-ca83361a0c66",
   "metadata": {},
   "outputs": [],
   "source": [
    "# Converting the date into datetime format\n",
    "data['date'] = pd.to_datetime(data['date'], errors = 'coerce')\n",
    "\n",
    "# Extracting year, month, date from date\n",
    "data['Year'] = data['date'].dt.year\n",
    "data['Month'] = data['date'].dt.month\n",
    "data['Day'] = data['date'].dt.day"
   ]
  },
  {
   "cell_type": "code",
   "execution_count": null,
   "id": "3c93b09d-af7e-4e6b-a48b-0ae60a8a9d69",
   "metadata": {},
   "outputs": [],
   "source": [
    "# Bar Plot for Number of Reviews in each year\n",
    "sns.set(font_scale = 1.2, style  ='darkgrid')\n",
    "plt.rcParams['figure.figsize'] = (19,8)\n",
    "\n",
    "reviews = dict(data[\"Year\"].value_counts())\n",
    "years = list(reviews.keys())\n",
    "countReviews = list(reviews.values())\n",
    "# print(years,countReviews)\n",
    "\n",
    "sns_reviews = sns.barplot(x = years, y = countReviews, palette = 'colorblind')\n",
    "sns_reviews.set_title(\"Number of Reviews in each year\", fontsize = 25)\n",
    "sns_reviews.set_xlabel(\"Years\")\n",
    "sns_reviews.set_ylabel(\"Count of Reviews\")"
   ]
  },
  {
   "cell_type": "code",
   "execution_count": null,
   "id": "17e9ec33-3257-42d0-bc2e-81268f381ce7",
   "metadata": {},
   "outputs": [],
   "source": [
    "# Bar Plot for Number of Reviews in each month\n",
    "sns.set(font_scale = 1.2, style  ='darkgrid')\n",
    "plt.rcParams['figure.figsize'] = (19,8)\n",
    "\n",
    "reviews = dict(data[\"Month\"].value_counts())\n",
    "months = list(reviews.keys())\n",
    "countReviews = list(reviews.values())\n",
    "# print(months,countReviews)\n",
    "\n",
    "sns_reviews = sns.barplot(x = months, y = countReviews, palette = 'colorblind')\n",
    "sns_reviews.set_title(\"Number of Reviews in each month\", fontsize = 25)\n",
    "sns_reviews.set_xlabel(\"Months\")\n",
    "sns_reviews.set_ylabel(\"Count of Reviews\")"
   ]
  },
  {
   "cell_type": "code",
   "execution_count": null,
   "id": "5b523e63-51b5-4a3b-87a6-5e064433a681",
   "metadata": {},
   "outputs": [],
   "source": [
    "# Bar Plot for Number of Reviews in each of the day\n",
    "sns.set(font_scale = 1.2, style  ='darkgrid')\n",
    "plt.rcParams['figure.figsize'] = (19,8)\n",
    "\n",
    "reviews = dict(data[\"Day\"].value_counts())\n",
    "days = list(reviews.keys())\n",
    "countReviews = list(reviews.values())\n",
    "# print(days,countReviews)\n",
    "\n",
    "sns_reviews = sns.barplot(x = days, y = countReviews, palette = 'colorblind')\n",
    "sns_reviews.set_title(\"Number of Reviews in each of the day\", fontsize = 25)\n",
    "sns_reviews.set_xlabel(\"Days\")\n",
    "sns_reviews.set_ylabel(\"Count of Reviews\")"
   ]
  },
  {
   "cell_type": "code",
   "execution_count": null,
   "id": "fe1ac882-25ff-4bfb-8b47-520aae88686c",
   "metadata": {},
   "outputs": [],
   "source": [
    "# Distribution of Useful Counts\n",
    "plt.rcParams['figure.figsize'] = (19, 8)\n",
    "sns.displot(data['usefulCount'], color = 'violet')\n",
    "plt.title('Distribution of Useful Counts', fontsize = 20)\n",
    "plt.xlabel('Range of Useful Counts')\n",
    "plt.ylabel('Number of Useful Counts')\n",
    "plt.show()"
   ]
  },
  {
   "cell_type": "markdown",
   "id": "d62638dd-262e-4986-bcc7-49479c2ca065",
   "metadata": {},
   "source": [
    "### Data Preprocessing"
   ]
  },
  {
   "cell_type": "code",
   "execution_count": null,
   "id": "7a1167f9-2b3d-4aa3-99b4-077aaccb1535",
   "metadata": {},
   "outputs": [],
   "source": [
    "def review_clean(review):\n",
    "    # Changing reviews to lower case\n",
    "    to_lower = review.str.lower()\n",
    "    \n",
    "    # Replacing the repeating pattern of &#039;\n",
    "    repeat_pattern_remove = to_lower.str.replace(\"&#039;\", \"\")\n",
    "    \n",
    "    # Removing all special characters\n",
    "    special_char_remove = repeat_pattern_remove.str.replace(r'[^\\w\\d\\s]',' ')\n",
    "    \n",
    "    # Removing all ASCII characters\n",
    "    non_ascii_char_remove = special_char_remove.str.replace(r'[^\\x00-\\x7F]+',' ')\n",
    "    \n",
    "    # Removing the leading and trailing whitespaces\n",
    "    whitespace_remove = non_ascii_char_remove.str.replace(r'^\\s+|\\s+?$','')\n",
    "    \n",
    "    # Replacing multiple spaces with single space\n",
    "    multiple_space_remove = whitespace_remove.str.replace(r'\\s+',' ')\n",
    "    \n",
    "    # Replacing two or more dots with one\n",
    "    dataframe = multiple_space_remove.str.replace(r'\\.{2,}', ' ')\n",
    "\n",
    "    return dataframe"
   ]
  },
  {
   "cell_type": "code",
   "execution_count": null,
   "id": "b73d7e61-0b9f-4373-b3a0-fc444afff3b7",
   "metadata": {},
   "outputs": [],
   "source": [
    "data['review_clean'] = review_clean(data['review'])\n",
    "data.head(3)"
   ]
  },
  {
   "cell_type": "code",
   "execution_count": null,
   "id": "f976495c-ad32-4e81-96d6-fe1991ec7112",
   "metadata": {},
   "outputs": [],
   "source": [
    "# Contraction Dictionary for the expansion\n",
    "import re\n",
    "contractions_dict = {\n",
    "    \"ain't\": \"am not\", \"aren't\": \"are not\", \"can't\": \"cannot\", \"can't've\": \"cannot have\", \"'cause\": \"because\",\n",
    "    \"could've\": \"could have\", \"couldn't\": \"could not\", \"couldn't've\": \"could not have\", \"didn't\": \"did not\", \"doesn't\": \"does not\",\n",
    "    \"doesn’t\": \"does not\", \"don't\": \"do not\", \"don’t\": \"do not\", \"hadn't\": \"had not\", \"hadn't've\": \"had not have\", \"hasn't\": \"has not\",\n",
    "    \"haven't\": \"have not\", \"he'd\": \"he had\", \"he'd've\": \"he would have\", \"he'll\": \"he will\", \"he'll've\": \"he will have\", \"he's\": \"he is\",\n",
    "    \"how'd\": \"how did\", \"how'd'y\": \"how do you\", \"how'll\": \"how will\", \"how's\": \"how is\", \"i'd\": \"i would\", \"i'd've\": \"i would have\",\n",
    "    \"i'll\": \"i will\", \"i'll've\": \"i will have\", \"i'm\": \"i am\", \"i've\": \"i have\", \"isn't\": \"is not\", \"it'd\": \"it would\", \"it'd've\": \"it would have\",\n",
    "    \"it'll\": \"it will\", \"it'll've\": \"it will have\", \"it's\": \"it is\", \"let's\": \"let us\", \"ma'am\": \"madam\", \"mayn't\": \"may not\",\"might've\": \"might have\",\n",
    "    \"mightn't\": \"might not\", \"mightn't've\": \"might not have\", \"must've\": \"must have\", \"mustn't\": \"must not\", \"mustn't've\": \"must not have\",\n",
    "    \"needn't\": \"need not\", \"needn't've\": \"need not have\", \"o'clock\": \"of the clock\", \"oughtn't\": \"ought not\", \"oughtn't've\": \"ought not have\",\n",
    "    \"shan't\": \"shall not\",\"sha'n't\": \"shall not\", \"shan't've\": \"shall not have\", \"she'd\": \"she would\", \"she'd've\": \"she would have\",\n",
    "    \"she'll\": \"she will\", \"she'll've\": \"she will have\", \"she's\": \"she is\", \"should've\": \"should have\", \"shouldn't\": \"should not\", \n",
    "    \"shouldn't've\": \"should not have\", \"so've\": \"so have\", \"so's\": \"so is\", \"that'd\": \"that would\", \"that'd've\": \"that would have\",\n",
    "    \"that's\": \"that is\", \"there'd\": \"there would\", \"there'd've\": \"there would have\", \"there's\": \"there is\", \"they'd\": \"they would\",\n",
    "    \"they'd've\": \"they would have\", \"they'll\": \"they will\", \"they'll've\": \"they will have\", \"they're\": \"they are\", \"they've\": \"they have\",\n",
    "    \"to've\": \"to have\", \"wasn't\": \"was not\", \"we'd\": \"we would\", \"we'd've\": \"we would have\", \"we'll\": \"we will\", \"we'll've\": \"we will have\",\n",
    "    \"we're\": \"we are\", \"we've\": \"we have\", \"weren't\": \"were not\", \"what'll\": \"what will\", \"what'll've\": \"what will have\", \"what're\": \"what are\",\n",
    "    \"what's\": \"what is\", \"what've\": \"what have\", \"when's\": \"when is\", \"when've\": \"when have\", \"where'd\": \"where did\", \"where's\": \"where is\",\n",
    "    \"where've\": \"where have\", \"who'll\": \"who will\", \"who'll've\": \"who will have\", \"who's\": \"who is\", \"who've\": \"who have\", \"why's\": \"why is\",\n",
    "    \"why've\": \"why have\", \"will've\": \"will have\", \"won't\": \"will not\", \"won't've\": \"will not have\", \"would've\": \"would have\",\n",
    "    \"wouldn't\": \"would not\", \"wouldn't've\": \"would not have\", \"y'all\": \"you all\", \"y’all\": \"you all\", \"y'all'd\": \"you all would\",\n",
    "    \"y'all'd've\": \"you all would have\", \"y'all're\": \"you all are\", \"y'all've\": \"you all have\", \"you'd\": \"you would\", \"you'd've\": \"you would have\",\n",
    "    \"you'll\": \"you will\", \"you'll've\": \"you will have\", \"you're\": \"you are\", \"you've\": \"you have\", \"ain’t\": \"am not\", \"aren’t\": \"are not\",\n",
    "    \"can’t\": \"cannot\", \"can’t’ve\": \"cannot have\", \"’cause\": \"because\", \"could’ve\": \"could have\", \"couldn’t\": \"could not\", \"couldn’t’ve\": \"could not have\",\n",
    "    \"didn’t\": \"did not\", \"doesn’t\": \"does not\", \"don’t\": \"do not\", \"don’t\": \"do not\", \"hadn’t\": \"had not\", \"hadn’t’ve\": \"had not have\",\n",
    "    \"hasn’t\": \"has not\", \"haven’t\": \"have not\", \"he’d\": \"he had\", \"he’d’ve\": \"he would have\", \"he’ll\": \"he will\", \"he’ll’ve\": \"he will have\",\n",
    "    \"he’s\": \"he is\", \"how’d\": \"how did\", \"how’d’y\": \"how do you\", \"how’ll\": \"how will\", \"how’s\": \"how is\", \"i’d\": \"i would\", \"i’d’ve\": \"i would have\",\n",
    "    \"i’ll\": \"i will\", \"i’ll’ve\": \"i will have\", \"i’m\": \"i am\", \"i’ve\": \"i have\", \"isn’t\": \"is not\", \"it’d\": \"it would\", \"it’d’ve\": \"it would have\",\n",
    "    \"it’ll\": \"it will\", \"it’ll’ve\": \"it will have\", \"it’s\": \"it is\", \"let’s\": \"let us\", \"ma’am\": \"madam\", \"mayn’t\": \"may not\",\n",
    "    \"might’ve\": \"might have\", \"mightn’t\": \"might not\", \"mightn’t’ve\": \"might not have\", \"must’ve\": \"must have\", \"mustn’t\": \"must not\",\n",
    "    \"mustn’t’ve\": \"must not have\", \"needn’t\": \"need not\", \"needn’t’ve\": \"need not have\", \"o’clock\": \"of the clock\",\n",
    "    \"oughtn’t\": \"ought not\", \"oughtn’t’ve\": \"ought not have\", \"shan’t\": \"shall not\", \"sha’n’t\": \"shall not\", \"shan’t’ve\": \"shall not have\",\n",
    "    \"she’d\": \"she would\", \"she’d’ve\": \"she would have\", \"she’ll\": \"she will\", \"she’ll’ve\": \"she will have\", \"she’s\": \"she is\",\n",
    "    \"should’ve\": \"should have\", \"shouldn’t\": \"should not\", \"shouldn’t’ve\": \"should not have\", \"so’ve\": \"so have\", \"so’s\": \"so is\",\n",
    "    \"that’d\": \"that would\", \"that’d’ve\": \"that would have\", \"that’s\": \"that is\", \"there’d\": \"there would\", \"there’d’ve\": \"there would have\",\n",
    "    \"there’s\": \"there is\", \"they’d\": \"they would\", \"they’d’ve\": \"they would have\", \"they’ll\": \"they will\", \"they’ll’ve\": \"they will have\",\n",
    "    \"they’re\": \"they are\", \"they’ve\": \"they have\", \"to’ve\": \"to have\", \"wasn’t\": \"was not\", \"we’d\": \"we would\", \"we’d’ve\": \"we would have\",\n",
    "    \"we’ll\": \"we will\", \"we’ll’ve\": \"we will have\", \"we’re\": \"we are\", \"we’ve\": \"we have\", \"weren’t\": \"were not\", \"what’ll\": \"what will\",\n",
    "    \"what’ll’ve\": \"what will have\", \"what’re\": \"what are\", \"what’s\": \"what is\", \"what’ve\": \"what have\", \"when’s\": \"when is\",\n",
    "    \"when’ve\": \"when have\", \"where’d\": \"where did\", \"where’s\": \"where is\", \"where’ve\": \"where have\", \"who’ll\": \"who will\",\n",
    "    \"who’ll’ve\": \"who will have\", \"who’s\": \"who is\", \"who’ve\": \"who have\",\"why’s\": \"why is\", \"why’ve\": \"why have\", \"will’ve\": \"will have\",\n",
    "    \"won’t\": \"will not\", \"won’t’ve\": \"will not have\", \"would’ve\": \"would have\", \"wouldn’t\": \"would not\", \"wouldn’t’ve\": \"would not have\",\n",
    "    \"y’all\": \"you all\", \"y’all\": \"you all\", \"y’all’d\": \"you all would\", \"y’all’d’ve\": \"you all would have\", \"y’all’re\": \"you all are\",\n",
    "    \"y’all’ve\": \"you all have\", \"you’d\": \"you would\", \"you’d’ve\": \"you would have\", \"you’ll\": \"you will\", \"you’ll’ve\": \"you will have\",\n",
    "    \"you’re\": \"you are\", \"you’re\": \"you are\", \"you’ve\": \"you have\"\n",
    "}\n",
    "contractions_re = re.compile('(%s)' % '|'.join(contractions_dict.keys()))\n",
    "\n",
    "# Function expand the contractions if there's any\n",
    "def expand_contractions(s, contractions_dict=contractions_dict):\n",
    "    def replace(match):\n",
    "        return contractions_dict[match.group(0)]\n",
    "    return contractions_re.sub(replace, s)\n",
    "\n",
    "\n",
    "# Expanding the contractions\n",
    "data['review_clean'] = data['review_clean'].apply(lambda x: expand_contractions(x))\n",
    "data.head(3)"
   ]
  },
  {
   "cell_type": "code",
   "execution_count": null,
   "id": "b4246878-9511-4c53-b506-53d16671d094",
   "metadata": {},
   "outputs": [],
   "source": [
    "# Using Stopwords to extract the useful words in review_clean\n",
    "import nltk\n",
    "from nltk.corpus import stopwords\n",
    "\n",
    "stop_words = set(stopwords.words('english'))\n",
    "data['review_clean'] = data['review_clean'].apply(lambda x: ' '.join(word for word in x.split() if word not in stop_words))"
   ]
  },
  {
   "cell_type": "code",
   "execution_count": null,
   "id": "a44e71e1-012e-47d7-8d0c-9a3aa2235e80",
   "metadata": {},
   "outputs": [],
   "source": [
    "# Removing the word stems using the Snowball Stemmer in review_clean\n",
    "import nltk\n",
    "from nltk.stem import SnowballStemmer\n",
    "\n",
    "snow_ball_stemmer = SnowballStemmer(language = \"english\")\n",
    "data['review_clean'] = data['review_clean'].apply(lambda x: \" \".join(snow_ball_stemmer.stem(word) for word in x.split()))"
   ]
  },
  {
   "cell_type": "code",
   "execution_count": null,
   "id": "e47b4e6e-8d71-4441-92c1-08bfdeb1a769",
   "metadata": {},
   "outputs": [],
   "source": [
    "# Sentiment polarity of all reviews\n",
    "from textblob import TextBlob\n",
    "\n",
    "def sentiment_polarity(review):\n",
    "    pol = []\n",
    "    for i in review:\n",
    "        analysis = TextBlob(i)\n",
    "        pol.append(analysis.sentiment.polarity)\n",
    "    return pol"
   ]
  },
  {
   "cell_type": "code",
   "execution_count": null,
   "id": "e0f5ada5-e818-4b1e-b1de-cc1baee8ed2d",
   "metadata": {},
   "outputs": [],
   "source": [
    "# Evaluating Sentiment Polarity for Uncleaned Reviews\n",
    "data['sentiment'] = sentiment_polarity(data['review'])\n",
    "\n",
    "# Evaluating Sentiment Polarity for Cleaned Reviews\n",
    "data['sentiment_clean'] = sentiment_polarity(data['review_clean'])"
   ]
  },
  {
   "cell_type": "code",
   "execution_count": null,
   "id": "405d326a-3c01-433e-9c2c-affa43bacb38",
   "metadata": {},
   "outputs": [],
   "source": [
    "# Cleaning the reviews without using Snowball Stemmer and Stopwords\n",
    "data['review_clean_ss'] = review_clean(data['review'])\n",
    "\n",
    "# Evaluating Sentiment Polarity for cleaned Reviews without using Snowball Stemmer and Stopwords\n",
    "data['sentiment_clean_ss'] = sentiment_polarity(data['review_clean_ss'])\n",
    "data.head(3)"
   ]
  },
  {
   "cell_type": "code",
   "execution_count": null,
   "id": "1b5ba1f5-9060-4c72-959b-8e07e5acdf7b",
   "metadata": {},
   "outputs": [],
   "source": [
    "# Remove Missing Values\n",
    "data = data.dropna(how=\"any\", axis=0)"
   ]
  },
  {
   "cell_type": "code",
   "execution_count": null,
   "id": "9ea116d1-021d-4aa9-ba53-277c4798a879",
   "metadata": {},
   "outputs": [],
   "source": [
    "import string\n",
    "\n",
    "# Words count in each review\n",
    "data['words_count']=data[\"review_clean_ss\"].apply(lambda x: len(str(x).split()))\n",
    "\n",
    "# Unique words count in each review\n",
    "data['unique_words_count']=data[\"review_clean_ss\"].apply(lambda x: len(set(str(x).split())))\n",
    "\n",
    "# Letters count in each review\n",
    "data['letters_count']=data[\"review_clean_ss\"].apply(lambda x: len(str(x)))\n",
    "\n",
    "# Punctuations count in each review\n",
    "data[\"punctuations_count\"] = data[\"review\"].apply(lambda x: len([c for c in str(x) if c in string.punctuation]))\n",
    "\n",
    "# Upper case words count in each review\n",
    "data[\"uppercase_words_count\"] = data[\"review\"].apply(lambda x: len([w for w in str(x).split() if w.isupper()]))\n",
    "\n",
    "# Title case words count in each review\n",
    "data[\"titlecase_words_count\"] = data[\"review\"].apply(lambda x: len([w for w in str(x).split() if w.istitle()]))\n",
    "\n",
    "# Stopwords count in each review\n",
    "data[\"stopwords_count\"] = data[\"review\"].apply(lambda x: len([w for w in str(x).lower().split() if w in stop_words]))\n",
    "\n",
    "# Average length of the words in each review\n",
    "data[\"average_word_length\"] = data[\"review_clean_ss\"].apply(lambda x: np.mean([len(w) for w in str(x).split()]))"
   ]
  },
  {
   "cell_type": "code",
   "execution_count": null,
   "id": "6a3ef24d-0762-4380-a838-ca4c9220b661",
   "metadata": {},
   "outputs": [],
   "source": [
    "data.columns\n",
    "# data.head(3)"
   ]
  },
  {
   "cell_type": "code",
   "execution_count": null,
   "id": "ce2e4a74-a233-45c5-942f-ace8f5b8d007",
   "metadata": {},
   "outputs": [],
   "source": [
    "# Correlation Matrix / Heatmap of the features engineered\n",
    "plt.rcParams['figure.figsize'] = (15,13)\n",
    "sns.set(font_scale = 1.2)\n",
    "corr = data.select_dtypes(include = 'int64').corr()\n",
    "matrix = np.triu(corr)\n",
    "sns_ = sns.heatmap(corr, mask = matrix, annot = True, cmap = 'summer', linewidths = 1)\n",
    "sns_.set(title=\"Correlation Matrix / HeatMap of Features\", xlabel = \"Features\", ylabel = \"Features\")\n",
    "plt.setp(sns_.get_xticklabels(), rotation = 45);"
   ]
  },
  {
   "cell_type": "code",
   "execution_count": null,
   "id": "1711b781-00c2-4cc2-aaf3-6ecf78c26c65",
   "metadata": {},
   "outputs": [],
   "source": [
    "# Label Encoding Drugname and Conditions\n",
    "from sklearn.preprocessing import LabelEncoder\n",
    "label_encoder_feat = {}\n",
    "for feature in ['drugName', 'condition']:\n",
    "    label_encoder_feat[feature] = LabelEncoder()\n",
    "    data[feature] = label_encoder_feat[feature].fit_transform(data[feature])"
   ]
  },
  {
   "cell_type": "markdown",
   "id": "9e5134c7-48ca-4e63-b294-e328c0919f1c",
   "metadata": {},
   "source": [
    "### Define Features and Spliting Data"
   ]
  },
  {
   "cell_type": "code",
   "execution_count": null,
   "id": "91a8f6f1-f9a8-4b82-b19c-b296ab22b5b6",
   "metadata": {},
   "outputs": [],
   "source": [
    "from sklearn.model_selection import train_test_split\n",
    "X = data[['condition', 'usefulCount', 'Day', 'Month', 'Year', 'sentiment', 'sentiment_clean_ss', \n",
    "                'words_count', 'unique_words_count', 'letters_count','punctuations_count', 'uppercase_words_count',\n",
    "                'titlecase_words_count', 'stopwords_count', 'average_word_length']]\n",
    "y = data['Review_Sentiment']\n",
    "\n",
    "X_train, X_test, y_train, y_test = train_test_split(X, y, test_size = 0.3, random_state = 42)\n",
    "print(X_train.shape, X_test.shape)"
   ]
  },
  {
   "cell_type": "markdown",
   "id": "a1f726cd-8fcf-4fa5-8cef-dc2cc09a0eb4",
   "metadata": {},
   "source": [
    "### Train the model with training data and make prediction"
   ]
  },
  {
   "cell_type": "code",
   "execution_count": null,
   "id": "eebda905-fe1b-4d6d-8215-234483939fb9",
   "metadata": {},
   "outputs": [],
   "source": [
    "from lightgbm import LGBMClassifier, plot_importance\n",
    "from sklearn.metrics import confusion_matrix, accuracy_score, classification_report \n",
    "\n",
    "clf = LGBMClassifier(\n",
    "        n_estimators=10000,\n",
    "        learning_rate=0.10,\n",
    "        num_leaves=30,\n",
    "        subsample=.9,\n",
    "        max_depth=7,\n",
    "        reg_alpha=.1,\n",
    "        reg_lambda=.1,\n",
    "        min_split_gain=.01,\n",
    "        min_child_weight=2,\n",
    "        silent=-1,\n",
    "        verbose=-1,\n",
    "        )\n",
    "model = clf.fit(X_train, y_train)\n",
    "\n",
    "pred = model.predict(X_test)\n",
    "print (\"Accuracy: \", accuracy_score(y_test, pred))\n",
    "print (\"Confusion Matrix: \\n\")\n",
    "confusion_matrix(y_test, pred)"
   ]
  },
  {
   "cell_type": "code",
   "execution_count": null,
   "id": "2badb345-9bed-4cbd-baa8-158ff924a4d2",
   "metadata": {},
   "outputs": [],
   "source": [
    "# Feature Importance Plot using LGBM\n",
    "plt.rcParams['figure.figsize'] = (12, 9)\n",
    "sns.set(style = 'darkgrid', font_scale = 1.2)\n",
    "plot_importance(model)"
   ]
  },
  {
   "cell_type": "code",
   "execution_count": null,
   "id": "bef30549-1155-40b3-a38c-81b425abc459",
   "metadata": {},
   "outputs": [],
   "source": []
  }
 ],
 "metadata": {
  "kernelspec": {
   "display_name": "Python 3 (ipykernel)",
   "language": "python",
   "name": "python3"
  },
  "language_info": {
   "codemirror_mode": {
    "name": "ipython",
    "version": 3
   },
   "file_extension": ".py",
   "mimetype": "text/x-python",
   "name": "python",
   "nbconvert_exporter": "python",
   "pygments_lexer": "ipython3",
   "version": "3.11.4"
  }
 },
 "nbformat": 4,
 "nbformat_minor": 5
}
